{
 "cells": [
  {
   "cell_type": "markdown",
   "metadata": {},
   "source": [
    "Rearrange a Linked List by Separating Odd Nodes from the Even Ones\n",
    "\n",
    "Given a linked list, rearrange it by separating odd nodes from even ones. All even nodes should come before all odd nodes in the output list and the relative order of even and odd nodes should be maintained.\n",
    "\n",
    "For example,\n",
    "Consider list {1, 2, 3, 4, 5, 6, 7}, rearranging it should yield {2, 4, 6, 1, 3, 5, 7}."
   ]
  },
  {
   "cell_type": "code",
   "execution_count": 80,
   "metadata": {},
   "outputs": [],
   "source": [
    "arr = [1, 2, 3, 4, 5, 6, 7]\n",
    "\n",
    "\n",
    "class Node(object):\n",
    "    def __init__(self,value):\n",
    "        self.value = value\n",
    "        self.nextnode = None\n",
    "        \n",
    "def sort_even_odd(arr):        \n",
    "    lin_list = []\n",
    "    even_sort = []\n",
    "    odd_sort = []\n",
    "\n",
    "    for index in range(len(arr)):\n",
    "        if index==0:\n",
    "            lin_list.append(Node(arr[index]))\n",
    "        else:\n",
    "            lin_list.append(Node(arr[index]))\n",
    "            lin_list[index-1].nextnode =  lin_list[index]\n",
    "\n",
    "    firstNode = lin_list[0]\n",
    "    \n",
    "    while(firstNode.nextnode!=None):\n",
    "        if firstNode.value%2==0:\n",
    "            even_sort.append(Node(firstNode.value))\n",
    "        else:\n",
    "            odd_sort.append(Node(firstNode.value))\n",
    "        firstNode = firstNode.nextnode\n",
    "        \n",
    "    lin_list = even_sort + odd_sort + [firstNode]\n",
    "    \n",
    "    for index in range(len(lin_list)-1):\n",
    "        lin_list[index].nextnode = lin_list[index+1]        \n",
    "\n",
    "    return lin_list"
   ]
  },
  {
   "cell_type": "code",
   "execution_count": 81,
   "metadata": {},
   "outputs": [],
   "source": [
    "sorted_linked_list = sort_even_odd(arr)"
   ]
  },
  {
   "cell_type": "code",
   "execution_count": 82,
   "metadata": {},
   "outputs": [
    {
     "name": "stdout",
     "output_type": "stream",
     "text": [
      "2\n",
      "4\n",
      "6\n",
      "1\n",
      "3\n",
      "5\n",
      "7\n"
     ]
    }
   ],
   "source": [
    "firstNode = sorted_linked_list[0]\n",
    "\n",
    "while(1):\n",
    "    if(firstNode.nextnode!=None):\n",
    "        print(firstNode.value)\n",
    "        firstNode = firstNode.nextnode\n",
    "    else:\n",
    "        print(firstNode.value)\n",
    "        break"
   ]
  }
 ],
 "metadata": {
  "kernelspec": {
   "display_name": "Python 3",
   "language": "python",
   "name": "python3"
  },
  "language_info": {
   "codemirror_mode": {
    "name": "ipython",
    "version": 3
   },
   "file_extension": ".py",
   "mimetype": "text/x-python",
   "name": "python",
   "nbconvert_exporter": "python",
   "pygments_lexer": "ipython3",
   "version": "3.6.5"
  }
 },
 "nbformat": 4,
 "nbformat_minor": 2
}
