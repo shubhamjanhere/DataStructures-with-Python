{
 "cells": [
  {
   "cell_type": "markdown",
   "metadata": {},
   "source": [
    "# Problems on Arrays"
   ]
  },
  {
   "cell_type": "markdown",
   "metadata": {},
   "source": [
    "<hr>\n",
    "<b>Problem-1</b>\n",
    "<br>\n",
    "Given an array of positive and negative numbers, arrange them such that all negative integers appear before all the positive integers in the array. The order of appearance should be maintained.\n",
    "<br>\n",
    "Examples:<br>\n",
    "Input :  arr[] = [12, 11, -13, -5, 6, -7, 5, -3, -6]<br>\n",
    "Output : arr[] = [-13, -5, -7, -3, -6, 12, 11, 6, 5]<br>"
   ]
  },
  {
   "cell_type": "code",
   "execution_count": 11,
   "metadata": {},
   "outputs": [
    {
     "data": {
      "text/plain": [
       "[-13, -5, -7, -3, -6, 12, 11, 6, 5]"
      ]
     },
     "execution_count": 11,
     "metadata": {},
     "output_type": "execute_result"
    }
   ],
   "source": [
    "list1 = [12, 11, -13, -5, 6, -7, 5, -3, -6]\n",
    "\n",
    "def sort_number(list1):\n",
    "    return list(filter(lambda x:x<0,list1))+[x for x in list1 if x >= 0]\n",
    "\n",
    "sort_number(list1)"
   ]
  },
  {
   "cell_type": "markdown",
   "metadata": {},
   "source": [
    "<hr>\n",
    "<b>Problem-2</b>\n",
    "<br>\n",
    "Given an array a[] and an element x, find number of occurrences of x in a[].\n",
    "<br>\n",
    "Examples:<br>\n",
    "Input  : a[] = {0, 5, 5, 5, 4}<br>\n",
    "           x = 5 <br>\n",
    "Output : 3<br>"
   ]
  },
  {
   "cell_type": "code",
   "execution_count": 60,
   "metadata": {},
   "outputs": [
    {
     "name": "stdout",
     "output_type": "stream",
     "text": [
      "2\n"
     ]
    }
   ],
   "source": [
    "def count_no(list_x,num_x):\n",
    "    return len(list(filter(lambda x: x == num_x ,list_x)))\n",
    "\n",
    "list_x = [12, 11, -13, -5, 6, -7, 5, -3, -6, 12, 12, 12, 4, 5, 6, -5]\n",
    "num_x=6\n",
    "\n",
    "print(count_no(list_x,num_x))"
   ]
  },
  {
   "cell_type": "markdown",
   "metadata": {},
   "source": [
    "<hr>\n",
    "<b>Problem-3</b>\n",
    "Given an unsorted array of n integers which can contains n integers. Count frequency of all elements that are present in array.<br>\n",
    "Examples:<br>\n",
    "Input : arr[] = [1, 1, 1, 1, 2, 2, 2, 2, 3, 3, 4, 5, 5]<br>\n",
    "Output : <br>\n",
    "         1 -> 4<br>\n",
    "         2 -> 4<br>\n",
    "         3 -> 2<br>\n",
    "         4 -> 1<br>\n",
    "         5 -> 2<br>\n",
    "\n"
   ]
  },
  {
   "cell_type": "code",
   "execution_count": 71,
   "metadata": {},
   "outputs": [
    {
     "name": "stdout",
     "output_type": "stream",
     "text": [
      "1 -> 4\n",
      "2 -> 4\n",
      "3 -> 2\n",
      "4 -> 1\n",
      "5 -> 2\n"
     ]
    }
   ],
   "source": [
    "def print_freq(list_y):\n",
    "    for number in list(set(list_y)):\n",
    "        print(str(number)+\" -> \"+str(count_no(list_y,number)))\n",
    "    \n",
    "list_y = [1, 1, 1, 1, 2, 2, 2, 2, 3, 3, 4, 5, 5]\n",
    "\n",
    "print_freq(list_y)"
   ]
  },
  {
   "cell_type": "markdown",
   "metadata": {},
   "source": [
    "<hr>\n",
    "<b>Problem-4</b>\n",
    "Given an array of size n containing equal number of odd and even numbers. The problem is to arrange the numbers in such a way that all the even numbers get the even index and odd numbers get the odd index. Required auxiliary space is O(1).\n",
    "<br>\n",
    "Examples :<br>\n",
    "\n",
    "Input : arr[] = {3, 6, 12, 1, 5, 8}<br>\n",
    "Output : 6 3 12 1 8 5 <br>"
   ]
  },
  {
   "cell_type": "code",
   "execution_count": 111,
   "metadata": {},
   "outputs": [],
   "source": [
    "list1 = [3, 6, 12, 1, 5, 8]\n",
    "\n",
    "def reorder_list(arr):\n",
    "    oddInd = 1\n",
    "    evenInd = 0\n",
    "    n = len(arr)\n",
    "    while(True):\n",
    "        while(evenInd < n and arr[evenInd] % 2 == 0):\n",
    "            evenInd += 2\n",
    "        while (oddInd < n and arr[oddInd] % 2 == 1):\n",
    "            oddInd += 2\n",
    "        if (evenInd < n and oddInd < n):\n",
    "            temp = arr[evenInd]\n",
    "            arr[evenInd] = arr[oddInd]\n",
    "            arr[oddInd] = temp\n",
    "        else:\n",
    "            break\n",
    "    return arr\n",
    "    \n",
    "reorder_list(list1)"
   ]
  },
  {
   "cell_type": "markdown",
   "metadata": {},
   "source": [
    "<hr>\n",
    "<b>Problem-5</b><br>\n",
    "Given n integers, which form a circle. Find the minimal absolute value of any adjacent pair. If there are many optimum solutions, output any of them.\n",
    "Note: they are in circle<br>\n",
    "\n",
    "Examples:<br>\n",
    "\n",
    "Input : arr[] = {10, 12, 13, 15, 10} <br>\n",
    "Output : 0 <br>\n",
    "Explanation: |10 - 10| = 0 which is the minimum possible.\n",
    "<br>\n",
    "Input : arr[] = {10, 20, 30, 40}<br>\n",
    "Output : 10<br>\n",
    "Explanation: |10 - 20| = 10 which is the minimum, 2 3 or 3 4 can be the answers also. <br>  "
   ]
  },
  {
   "cell_type": "code",
   "execution_count": 127,
   "metadata": {},
   "outputs": [
    {
     "name": "stdout",
     "output_type": "stream",
     "text": [
      "3\n"
     ]
    }
   ],
   "source": [
    "list1 = [3, 6, 12, 1, 5, 8]\n",
    "\n",
    "def return_absolute_value(list1):\n",
    "    min_el = abs(list1[0]-list1[1])\n",
    "    list1.append(list1[0])\n",
    "    for i in range(len(list1)-1):\n",
    "        temp = abs(list1[i]-list1[i+1])\n",
    "        if temp<min_el:\n",
    "            min_el = temp\n",
    "    print(min_el)\n",
    "        \n",
    "return_absolute_value(list1)"
   ]
  },
  {
   "cell_type": "markdown",
   "metadata": {},
   "source": [
    "<hr>\n",
    "<b>Problem-6</b><br>\n",
    "Given an unsorted array of integers, find a pair with given sum in it.<br>\n",
    "Input:\n",
    "arr = [8, 7, 2, 5, 3, 1]<br>\n",
    "sum = 10<br>\n",
    "\n",
    "Output:\n",
    "Pair found at index 0 and 2 (8 + 2)\n",
    "or<br>\n",
    "Pair found at index 1 and 4 (7 + 3)"
   ]
  },
  {
   "cell_type": "code",
   "execution_count": 18,
   "metadata": {},
   "outputs": [
    {
     "name": "stdout",
     "output_type": "stream",
     "text": [
      "Pair found at index 0 and 2 -> 8 + 2\n",
      "Pair found at index 1 and 4 -> 7 + 3\n"
     ]
    }
   ],
   "source": [
    "def find_pair(arr,sum_n):\n",
    "    for index1 in range(len(arr)-1):\n",
    "        for index2 in range(index1+1,len(arr)-1):\n",
    "            if arr[index1]+arr[index2]==sum_n:\n",
    "                print(\"Pair found at index \"+str(index1)+\" and \"+str(index2)+\" -> \"+str(arr[index1])+\" + \"+str(arr[index2]))\n",
    "\n",
    "arr = [8, 7, 2, 5, 3, 1]\n",
    "s = 10\n",
    "find_pair(arr,s)"
   ]
  },
  {
   "cell_type": "markdown",
   "metadata": {
    "collapsed": true
   },
   "source": [
    "<hr>\n",
    "<b>Problem-7</b><br>\n",
    "Check if subarray with 0 sum is exists or not\n",
    "Given an array of integers, check if array contains a sub-array having 0 sum.\n",
    "\n",
    "Input:  { 3, 4, -7, 3, 1, 3, 1, -4, -2, -2 }\n",
    "\n",
    "Output: Subarray with 0 sum exists\n",
    "\n",
    "The sub-arrays with 0 sum are:\n",
    "{ 3, 4, -7 }\n",
    "{ 4, -7, 3 }\n",
    "{ -7, 3, 1, 3 }\n",
    "{ 3, 1, -4 }\n",
    "{ 3, 1, 3, 1, -4, -2, -2 }\n",
    "{ 3, 4, -7, 3, 1, 3, 1, -4, -2, -2 }\n",
    "\n",
    "\n",
    " \n",
    "\n",
    "\n"
   ]
  },
  {
   "cell_type": "code",
   "execution_count": 2,
   "metadata": {},
   "outputs": [],
   "source": [
    "def find_triplet(arr):\n",
    "    arr = list(set(arr))\n",
    "    for index1 in range(len(arr)-1):\n",
    "        for index2 in range(index1+1,len(arr)-1):\n",
    "            for index3 in range(index2+1,len(arr)-1):\n",
    "                if arr[index1]+arr[index2]+arr[index3]==0:\n",
    "                    print(\"Pair found at index \"+str(index1)+\", \"+str(index2)+\", \"+str(index3)+\" -> \"+str(arr[index1])+\" + \"+str(arr[index2])+\" + \"+str(arr[index3]))\n",
    "\n",
    "arr = [3, 4, -7, 3, 1, 3, 1, -4, -2, -2]\n",
    "find_triplet(list(set(arr)))"
   ]
  },
  {
   "cell_type": "markdown",
   "metadata": {},
   "source": [
    "<hr>\n",
    "<b>Problem-8</b><br>\n",
    "Given an binary array, sort it in linear time and constant space. Output should print contain all zeroes followed by all ones.\n",
    "\n",
    "\n",
    " \n",
    "\n",
    "For example,\n",
    "\n",
    "\n",
    "Input: { 1, 0, 1, 0, 1, 0, 0, 1 }\n",
    "\n",
    "Output:{ 0, 0, 0, 0, 1, 1, 1, 1 }"
   ]
  },
  {
   "cell_type": "code",
   "execution_count": 24,
   "metadata": {},
   "outputs": [
    {
     "name": "stdout",
     "output_type": "stream",
     "text": [
      "[0, 0, 0, 0, 0, 0, 1, 1, 1, 1, 1, 1, 1]\n"
     ]
    }
   ],
   "source": [
    "arr = [1, 0, 1, 0, 1, 0, 0, 1, 0, 0, 1, 1, 1]\n",
    "\n",
    "def sort_const(arr):\n",
    "    zeros = 0\n",
    "    for index in range(len(arr)):\n",
    "        if arr[index]==0:\n",
    "            zeros += 1\n",
    "    index = 0\n",
    "    while(zeros!=0):\n",
    "        arr[index] = 0\n",
    "        index += 1\n",
    "        zeros -= 1\n",
    "    for i in range(index,len(arr)):\n",
    "        arr[i]=1        \n",
    "    print(arr)\n",
    "\n",
    "sort_const(arr)"
   ]
  },
  {
   "cell_type": "markdown",
   "metadata": {
    "collapsed": true
   },
   "source": [
    "<hr>\n",
    "<b>Problem-9</b><br>\n",
    "\n",
    "Find a duplicate element in a limited range array\n",
    "Given a limited range array of size n where array contains elements between 1 to n-1 with one element repeating, find the duplicate number in it.\n",
    "\n",
    " \n",
    "For example,\n",
    "\n",
    "Input:   { 1, 2, 3, 4, 4 }\n",
    "\n",
    "Output: The duplicate element is 4\n",
    " "
   ]
  },
  {
   "cell_type": "code",
   "execution_count": 31,
   "metadata": {},
   "outputs": [
    {
     "name": "stdout",
     "output_type": "stream",
     "text": [
      "4\n"
     ]
    }
   ],
   "source": [
    "arr = [1, 2, 3, 4, 4]\n",
    "def find_duplicate(arr):\n",
    "    return sum(arr) - sum(list(set(arr)))\n",
    "print(find_duplicate(arr))"
   ]
  },
  {
   "cell_type": "markdown",
   "metadata": {},
   "source": [
    "<hr>\n",
    "<b>Problem-10</b><br>\n",
    "You have given an integer array which contains numbers from 1 to 100 but one number is missing, you need to write a program to find that missing number in an array. "
   ]
  },
  {
   "cell_type": "code",
   "execution_count": 68,
   "metadata": {},
   "outputs": [
    {
     "name": "stdout",
     "output_type": "stream",
     "text": [
      "32.0\n"
     ]
    }
   ],
   "source": [
    "def remove_nth_el(n):\n",
    "    if n<100 and n>=0:\n",
    "        first_100 = list(range(1,101))\n",
    "        del first_100[n]\n",
    "        print((100*101/2)-sum(first_100))\n",
    "\n",
    "remove_nth_el(31)"
   ]
  },
  {
   "cell_type": "markdown",
   "metadata": {},
   "source": [
    "<hr>\n",
    "<b>Problem-11</b><br>\n",
    "How to check if array contains a number ?"
   ]
  },
  {
   "cell_type": "code",
   "execution_count": 20,
   "metadata": {},
   "outputs": [
    {
     "data": {
      "text/plain": [
       "7"
      ]
     },
     "execution_count": 20,
     "metadata": {},
     "output_type": "execute_result"
    }
   ],
   "source": [
    "import math\n",
    "\n",
    "myList = [1,11,3,44,5,77,4,6,8,45,73,68,42,32,57,87,37]\n",
    "\n",
    "def quicksort(myList, start, end):\n",
    "    if start < end:\n",
    "        pivot = partition(myList, start, end)\n",
    "        # sort both halves\n",
    "        quicksort(myList, start, pivot-1)\n",
    "        quicksort(myList, pivot+1, end)\n",
    "    return myList\n",
    "\n",
    "def partition(myList, start, end):\n",
    "    pivot = myList[start]\n",
    "    left = start+1\n",
    "    right = end\n",
    "    done = False\n",
    "    while not done:\n",
    "        while left <= right and myList[left] <= pivot:\n",
    "            left = left + 1\n",
    "        while myList[right] >= pivot and right >=left:\n",
    "            right = right -1\n",
    "        if right < left:\n",
    "            done= True\n",
    "        else:\n",
    "            # swap places\n",
    "            temp=myList[left]\n",
    "            myList[left]=myList[right]\n",
    "            myList[right]=temp\n",
    "    # swap start with myList[right]\n",
    "    temp=myList[start]\n",
    "    myList[start]=myList[right]\n",
    "    myList[right]=temp\n",
    "    return right\n",
    "\n",
    "def binary_search(array, target):\n",
    "    lower = 0\n",
    "    upper = len(array)\n",
    "    while lower < upper:   \n",
    "        x = lower + (upper - lower) // 2\n",
    "        val = array[x]\n",
    "        if target == val:\n",
    "            return x\n",
    "        elif target > val:\n",
    "            if lower == x:   \n",
    "                break        \n",
    "            lower = x\n",
    "        elif target < val:\n",
    "            upper = x\n",
    "            \n",
    "quicksort(myList,0,len(myList)-1)\n",
    "binary_search(myList, 32)"
   ]
  },
  {
   "cell_type": "markdown",
   "metadata": {},
   "source": [
    "<hr>\n",
    "<b>Problem-12</b><br>\n",
    "Given two sorted arrays X[] and Y[] of size m and n each, merge elements of X[] with elements of array Y[] by maintaining the sorted order. i.e. fill X[] with first m smallest elements and fill Y[] with remaining elements.\n",
    "\n",
    "The conversion should be done in-place and without using any other data structure.\n",
    "\n",
    "For example,\n",
    "\n",
    "Input:\n",
    "X[] = { 1, 4, 7, 8, 10 }\n",
    "Y[] = { 2, 3, 9 }\n",
    "\n",
    "Output:\n",
    "X[] = { 1, 2, 3, 4, 7 }\n",
    "Y[] = { 8, 9, 10 }"
   ]
  },
  {
   "cell_type": "code",
   "execution_count": 48,
   "metadata": {},
   "outputs": [],
   "source": [
    "arr1 = [1, 4, 7, 8, 10]\n",
    "arr2 = [2, 3, 9]\n",
    "\n",
    "\n",
    "def sort_arr(arr1,arr2):\n",
    "    index1 = 0\n",
    "    index2 = 0\n",
    "    main_arr = []\n",
    "    while(index1<len(arr1) and index2<len(arr2)):\n",
    "        if arr1[index1]>arr2[index2]:\n",
    "            main_arr += [arr2[index2]]\n",
    "            index2 += 1\n",
    "        else:\n",
    "            main_arr += [arr1[index1]]\n",
    "            index1 += 1\n",
    "    \n",
    "    return (main_arr[0:len(arr1)],main_arr[len(arr1):len(arr1)+len(arr2)])\n",
    "            \n",
    "(arr1,arr2) = sort_arr(arr1,arr2)"
   ]
  },
  {
   "cell_type": "code",
   "execution_count": null,
   "metadata": {},
   "outputs": [],
   "source": []
  },
  {
   "cell_type": "code",
   "execution_count": null,
   "metadata": {},
   "outputs": [],
   "source": []
  }
 ],
 "metadata": {
  "kernelspec": {
   "display_name": "Python 3",
   "language": "python",
   "name": "python3"
  },
  "language_info": {
   "codemirror_mode": {
    "name": "ipython",
    "version": 3
   },
   "file_extension": ".py",
   "mimetype": "text/x-python",
   "name": "python",
   "nbconvert_exporter": "python",
   "pygments_lexer": "ipython3",
   "version": "3.6.4"
  }
 },
 "nbformat": 4,
 "nbformat_minor": 2
}
